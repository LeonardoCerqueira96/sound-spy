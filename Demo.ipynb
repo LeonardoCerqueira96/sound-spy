{
 "cells": [
  {
   "cell_type": "markdown",
   "metadata": {},
   "source": [
    "# Sound-spy easy demo program "
   ]
  },
  {
   "cell_type": "code",
   "execution_count": null,
   "metadata": {},
   "outputs": [],
   "source": [
    "import ipywidgets as widgets\n",
    "import numpy as np\n",
    "import imageio\n",
    "from IPython.core.display import HTML\n",
    "import sound_spy"
   ]
  },
  {
   "cell_type": "code",
   "execution_count": null,
   "metadata": {},
   "outputs": [],
   "source": [
    "# this is a wrapper that take a filename and publish an html <audio> tag to listen to it\n",
    "\n",
    "def wavPlayer(filepath):\n",
    "    \"\"\" will display html 5 player for compatible browser\n",
    "\n",
    "    Parameters :\n",
    "    ------------\n",
    "    filepath : relative filepath with respect to the notebook directory ( where the .ipynb are not cwd)\n",
    "               of the file to play\n",
    "\n",
    "    The browser need to know how to play wav through html5.\n",
    "\n",
    "    there is no autoplay to prevent file playing when the browser opens\n",
    "    \"\"\"\n",
    "    \n",
    "    src = \"\"\"\n",
    "    <head>\n",
    "    <meta http-equiv=\"Content-Type\" content=\"text/html; charset=utf-8\">\n",
    "    <title>Simple Test</title>\n",
    "    </head>\n",
    "    \n",
    "    <body>\n",
    "    <audio controls=\"controls\" style=\"width:600px\" >\n",
    "      <source src=\"files/%s\" type=\"audio/wav\" />\n",
    "      Your browser does not support the audio element.\n",
    "    </audio>\n",
    "    </body>\n",
    "    \"\"\"%(filepath)\n",
    "    display(HTML(src))"
   ]
  },
  {
   "cell_type": "markdown",
   "metadata": {},
   "source": [
    "### Hiding sound in image vs. retrieving sound from image"
   ]
  },
  {
   "cell_type": "code",
   "execution_count": null,
   "metadata": {},
   "outputs": [],
   "source": [
    "opt = widgets.RadioButtons(\n",
    "    options=['Hide', 'Retrieve'],\n",
    "    value='Hide',\n",
    "    disabled=False,\n",
    ")\n",
    "\n",
    "opt"
   ]
  },
  {
   "cell_type": "markdown",
   "metadata": {},
   "source": [
    "### Seed to use"
   ]
  },
  {
   "cell_type": "code",
   "execution_count": 4,
   "metadata": {},
   "outputs": [
    {
     "data": {
      "application/vnd.jupyter.widget-view+json": {
       "model_id": "1876ed5e6d894cffba9b136aa945331b",
       "version_major": 2,
       "version_minor": 0
      },
      "text/plain": [
       "Text(value='foo', description='Seed:', placeholder='Enter seed here (e.g.: torus)')"
      ]
     },
     "metadata": {},
     "output_type": "display_data"
    }
   ],
   "source": [
    "seed = widgets.Text(\n",
    "    value='foo',\n",
    "    placeholder='Enter seed here (e.g.: torus)',\n",
    "    description='Seed:',\n",
    "    disabled=False\n",
    ")\n",
    "\n",
    "seed"
   ]
  },
  {
   "cell_type": "markdown",
   "metadata": {},
   "source": [
    "### Getting list of usable images from directory\n",
    "Only .png image files are accepted. Place new images inside \"examples\" folder.\n",
    "\n",
    "If hiding a sound, rerun the two cells bellow after the program executed to preview the new image with sound hidden"
   ]
  },
  {
   "cell_type": "code",
   "execution_count": 5,
   "metadata": {},
   "outputs": [],
   "source": [
    "%%capture img_cap --no-stderr\n",
    "!find ./examples -name \"*.png\""
   ]
  },
  {
   "cell_type": "code",
   "execution_count": 6,
   "metadata": {},
   "outputs": [],
   "source": [
    "img_list = img_cap.stdout.replace(\"./examples/\", \"\").split(\"\\n\")\n",
    "del img_list[-1]\n",
    "\n",
    "img_dropdown = widgets.Dropdown(\n",
    "    options=img_list,\n",
    "    value=img_list[0],\n",
    ")"
   ]
  },
  {
   "cell_type": "markdown",
   "metadata": {},
   "source": [
    "### Pick an image from the list"
   ]
  },
  {
   "cell_type": "code",
   "execution_count": 7,
   "metadata": {},
   "outputs": [
    {
     "data": {
      "application/vnd.jupyter.widget-view+json": {
       "model_id": "eb36634cab9f4ee4b8c65698ac5f4bb0",
       "version_major": 2,
       "version_minor": 0
      },
      "text/plain": [
       "VBox(children=(Dropdown(options=('collector_clean.png', 'collector_hidden.png', 'foo.png', 'garrus_clean.png',…"
      ]
     },
     "metadata": {},
     "output_type": "display_data"
    }
   ],
   "source": [
    "# After picking rerun this cell to preview the image chosen\n",
    "\n",
    "file = open(\"examples/\" + img_dropdown.value, \"rb\")\n",
    "image = file.read()\n",
    "\n",
    "img = widgets.Image(\n",
    "    value=image,\n",
    "    format='png',\n",
    "    width=980,\n",
    ")\n",
    "\n",
    "widgets.VBox([img_dropdown, img])"
   ]
  },
  {
   "cell_type": "markdown",
   "metadata": {},
   "source": [
    "\n",
    "### Getting list of usable sounds from directory\n",
    "Only PCM-16 .wav sound files are accepted. Place new sounds inside \"sounds\" folder.\n",
    "\n",
    "If retrieving a sound, rerun the two cells bellow after the program executed to preview the sound file recovered"
   ]
  },
  {
   "cell_type": "code",
   "execution_count": 8,
   "metadata": {},
   "outputs": [],
   "source": [
    "%%capture snd_cap --no-stderr\n",
    "!find ./sounds -name \"*.wav\""
   ]
  },
  {
   "cell_type": "code",
   "execution_count": 9,
   "metadata": {},
   "outputs": [],
   "source": [
    "snd_list = snd_cap.stdout.replace(\"./sounds/\", \"\").split(\"\\n\")\n",
    "del snd_list[-1]\n",
    "\n",
    "snd_dropdown = widgets.Dropdown(\n",
    "    options=snd_list,\n",
    "    value=snd_list[0],\n",
    ")"
   ]
  },
  {
   "cell_type": "markdown",
   "metadata": {},
   "source": [
    "### Pick a sound from the list (if hiding)"
   ]
  },
  {
   "cell_type": "code",
   "execution_count": 10,
   "metadata": {},
   "outputs": [
    {
     "data": {
      "application/vnd.jupyter.widget-view+json": {
       "model_id": "8100dcd88f584ae794cdeb2b6d442eb6",
       "version_major": 2,
       "version_minor": 0
      },
      "text/plain": [
       "Dropdown(options=('calibrations.wav', 'collector.wav', 'fledermaus.wav', 'mario.wav', 'pikapi.wav'), value='ca…"
      ]
     },
     "metadata": {},
     "output_type": "display_data"
    }
   ],
   "source": [
    "snd_dropdown"
   ]
  },
  {
   "cell_type": "code",
   "execution_count": 11,
   "metadata": {},
   "outputs": [
    {
     "ename": "NameError",
     "evalue": "name 'wavPlayer' is not defined",
     "output_type": "error",
     "traceback": [
      "\u001b[1;31m---------------------------------------------------------------------------\u001b[0m",
      "\u001b[1;31mNameError\u001b[0m                                 Traceback (most recent call last)",
      "\u001b[1;32m<ipython-input-11-bdfde5244f7b>\u001b[0m in \u001b[0;36m<module>\u001b[1;34m()\u001b[0m\n\u001b[0;32m      1\u001b[0m \u001b[1;31m# After picking rerun this cell to preview the sound chosen\u001b[0m\u001b[1;33m\u001b[0m\u001b[1;33m\u001b[0m\u001b[0m\n\u001b[0;32m      2\u001b[0m \u001b[1;33m\u001b[0m\u001b[0m\n\u001b[1;32m----> 3\u001b[1;33m \u001b[0mwavPlayer\u001b[0m\u001b[1;33m(\u001b[0m\u001b[1;34m\"sounds/\"\u001b[0m \u001b[1;33m+\u001b[0m \u001b[0msnd_dropdown\u001b[0m\u001b[1;33m.\u001b[0m\u001b[0mvalue\u001b[0m\u001b[1;33m)\u001b[0m\u001b[1;33m\u001b[0m\u001b[0m\n\u001b[0m",
      "\u001b[1;31mNameError\u001b[0m: name 'wavPlayer' is not defined"
     ]
    }
   ],
   "source": [
    "# After picking rerun this cell to preview the sound chosen\n",
    "\n",
    "wavPlayer(\"sounds/\" + snd_dropdown.value)"
   ]
  },
  {
   "cell_type": "markdown",
   "metadata": {},
   "source": [
    "### Pick the number of bits\n",
    "Pick the number of least significant bits to use (if hiding) or being used (if retrieving)"
   ]
  },
  {
   "cell_type": "code",
   "execution_count": 12,
   "metadata": {},
   "outputs": [
    {
     "data": {
      "application/vnd.jupyter.widget-view+json": {
       "model_id": "5cf2abba777340d4bca7814556bfdd3c",
       "version_major": 2,
       "version_minor": 0
      },
      "text/plain": [
       "Dropdown(index=1, options=(1, 2, 4, 8), value=2)"
      ]
     },
     "metadata": {},
     "output_type": "display_data"
    }
   ],
   "source": [
    "bit_dropdown = widgets.Dropdown(\n",
    "    options=[1, 2, 4, 8],\n",
    "    value=2,\n",
    ")\n",
    "\n",
    "bit_dropdown"
   ]
  },
  {
   "cell_type": "markdown",
   "metadata": {},
   "source": [
    "### Name the output file\n",
    "If hiding, provide a name for the output .png file. If retrieving, provide a name for the output .wav file."
   ]
  },
  {
   "cell_type": "code",
   "execution_count": 13,
   "metadata": {},
   "outputs": [
    {
     "data": {
      "application/vnd.jupyter.widget-view+json": {
       "model_id": "c7c5c5a640084af48b6e2f5f6f9582b2",
       "version_major": 2,
       "version_minor": 0
      },
      "text/plain": [
       "Text(value='foo.png', description='Output:', placeholder='Enter the output file name')"
      ]
     },
     "metadata": {},
     "output_type": "display_data"
    }
   ],
   "source": [
    "out_file = widgets.Text(\n",
    "    value='foo.png',\n",
    "    placeholder='Enter the output file name',\n",
    "    description='Output:',\n",
    "    disabled=False\n",
    ")\n",
    "\n",
    "out_file"
   ]
  },
  {
   "cell_type": "markdown",
   "metadata": {},
   "source": [
    "### Executing the program\n",
    "If hiding, output image will be in the examples folder\n",
    "\n",
    "If retrieving, output sound will be in the sounds folder"
   ]
  },
  {
   "cell_type": "code",
   "execution_count": null,
   "metadata": {},
   "outputs": [],
   "source": [
    "%%capture\n",
    "\n",
    "img_in = \"examples/\" + img_dropdown.value\n",
    "snd_in = \"sounds/\" + snd_dropdown.value\n",
    "\n",
    "if (opt.value == \"Hide\"):\n",
    "    out = \"examples/\" + out_file.value\n",
    "    sound_spy.encode(seed.value, snd_in, img_in, bit_dropdown.value, out)\n",
    "elif (opt.value == \"Retrieve\"):\n",
    "    out = \"sounds/\" + out_file.value\n",
    "    sound_spy.decode(seed.value, img_in, bit_dropdown.value, out)\n",
    "    "
   ]
  },
  {
   "cell_type": "markdown",
   "metadata": {},
   "source": [
    "### Calculating the RMSE error between input image and output image"
   ]
  },
  {
   "cell_type": "code",
   "execution_count": 26,
   "metadata": {},
   "outputs": [
    {
     "name": "stdout",
     "output_type": "stream",
     "text": [
      "RMSE error: 3.11749126838\n"
     ]
    }
   ],
   "source": [
    "img1 = imageio.imread(img_in)\n",
    "img2 = imageio.imread(out)\n",
    "\n",
    "error = sound_spy.rmse_error(img1, img2)\n",
    "print (\"RMSE error: \" + str(error))"
   ]
  }
 ],
 "metadata": {
  "kernelspec": {
   "display_name": "Python 3",
   "language": "python",
   "name": "python3"
  },
  "language_info": {
   "codemirror_mode": {
    "name": "ipython",
    "version": 3
   },
   "file_extension": ".py",
   "mimetype": "text/x-python",
   "name": "python",
   "nbconvert_exporter": "python",
   "pygments_lexer": "ipython3",
   "version": "3.6.3"
  }
 },
 "nbformat": 4,
 "nbformat_minor": 2
}
